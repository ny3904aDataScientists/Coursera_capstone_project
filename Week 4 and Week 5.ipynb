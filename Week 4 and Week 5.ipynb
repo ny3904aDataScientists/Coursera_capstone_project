{
    "cells": [
        {
            "cell_type": "markdown",
            "metadata": {
                "collapsed": true
            },
            "source": "# To Find a Perfect Location for a New Chinese Restaurant in D.C."
        },
        {
            "cell_type": "markdown",
            "metadata": {},
            "source": "## Introduction\n"
        },
        {
            "cell_type": "markdown",
            "metadata": {},
            "source": "### Background"
        },
        {
            "cell_type": "markdown",
            "metadata": {},
            "source": "Washington D.C. formally and commonly referred to the district or D.C., is the capital of the United State. Located on the Potomac River, D.C.is an important world pollical center where is the home of the federal government and several internal organizations. D.C. had an estimated population of 702,455 as of July 2018, making it the 20th most populous city in the U.S. More than 20 million tourists visit there every year.  \n\nD.C.is a destination for dining. It has transformed from its beloved steakhouses and power lunch spots to a new wave of terrific restaurants popping up in the neighborhoods all over the city. Here you can find the 18 Michelin-Starts restaurants if you want to spend some money. Or you can go Wa-wa, Whole Food if you are in a hurry.\n"
        },
        {
            "cell_type": "markdown",
            "metadata": {},
            "source": "### Business Problem"
        },
        {
            "cell_type": "markdown",
            "metadata": {},
            "source": "Investor A came from China and has 20 years of experience working as a main chef in one of the five-star (top tiers) hotels in Beijing. He would like to open a Chinese restaurant in D.C. The criteria he chooses the location are: (1) Not too many Chinese restaurants closed by - not more than 2 in one neighborhood (2) Convenience - near to metro or in walkable distance. "
        },
        {
            "cell_type": "markdown",
            "metadata": {},
            "source": "### Data Description"
        },
        {
            "cell_type": "markdown",
            "metadata": {},
            "source": "####  (1) Forsquare API: \n####  (2) Google Map: "
        },
        {
            "cell_type": "code",
            "execution_count": null,
            "metadata": {},
            "outputs": [],
            "source": ""
        }
    ],
    "metadata": {
        "kernelspec": {
            "display_name": "Python 3.6",
            "language": "python",
            "name": "python3"
        },
        "language_info": {
            "codemirror_mode": {
                "name": "ipython",
                "version": 3
            },
            "file_extension": ".py",
            "mimetype": "text/x-python",
            "name": "python",
            "nbconvert_exporter": "python",
            "pygments_lexer": "ipython3",
            "version": "3.6.8"
        }
    },
    "nbformat": 4,
    "nbformat_minor": 1
}